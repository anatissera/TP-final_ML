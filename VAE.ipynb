{
 "cells": [
  {
   "cell_type": "code",
   "execution_count": null,
   "id": "2805a532",
   "metadata": {},
   "outputs": [],
   "source": [
    "import os\n",
    "import numpy as np\n",
    "import pandas as pd\n",
    "import torch\n",
    "import torch.nn as nn\n",
    "import torch.optim as optim\n",
    "from torch.utils.data import Dataset, DataLoader\n",
    "from scipy.signal import butter, filtfilt\n",
    "from scipy.io import loadmat\n",
    "import wfdb\n",
    "from wfdb import rdrecord"
   ]
  },
  {
   "cell_type": "code",
   "execution_count": null,
   "id": "cef4b9bb",
   "metadata": {},
   "outputs": [],
   "source": [
    "%load_ext autoreload\n",
    "%autoreload 2"
   ]
  },
  {
   "cell_type": "code",
   "execution_count": null,
   "id": "764f25b5",
   "metadata": {},
   "outputs": [],
   "source": [
    "from train_ecg_vae_reutilice import ECGDataset, ECG_VAE, loss_fn"
   ]
  },
  {
   "cell_type": "code",
   "execution_count": null,
   "id": "70e77ef8",
   "metadata": {},
   "outputs": [],
   "source": [
    "PTB_DIR = 'data/ptb-xl'\n",
    "CH_DIR  = 'data/ChapmanShaoxing'\n",
    "# Hyperparams\n",
    "batch_size = 16\n",
    "epochs = 50\n",
    "lr = 1e-3\n",
    "z_dim = 16\n",
    "seq_len = 5000\n",
    "\n",
    "# Dataset & Loader\n",
    "ds = ECGDataset(PTB_DIR, CH_DIR, sample_length=seq_len)\n",
    "loader = DataLoader(ds, batch_size=batch_size, shuffle=True, num_workers=4)\n",
    "\n",
    "# Model, optim\n",
    "device = torch.device('cuda' if torch.cuda.is_available() else 'cpu')\n",
    "vae = ECG_VAE(z_dim=z_dim, seq_len=seq_len).to(device)\n",
    "opt = optim.Adam(vae.parameters(), lr=lr)\n",
    "\n",
    "# Train\n",
    "for ep in range(1, epochs+1):\n",
    "    vae.train()\n",
    "    tot_loss = 0\n",
    "    for batch in loader:\n",
    "        x = batch.to(device)\n",
    "        x_hat, mu, logv = vae(x)\n",
    "        loss, recon, kld = loss_fn(x, x_hat, mu, logv)\n",
    "        opt.zero_grad(); loss.backward(); opt.step()\n",
    "        tot_loss += loss.item()\n",
    "    print(f\"Epoch {ep}/{epochs} - Loss: {tot_loss/len(loader):.4f} (Recon {recon:.4f}, KLD {kld:.4f})\")\n",
    "# Guardar\n",
    "torch.save(vae.state_dict(), 'ecg_vae.pth')\n",
    "print(\"Modelo guardado en ecg_vae.pth\")\n"
   ]
  }
 ],
 "metadata": {
  "kernelspec": {
   "display_name": "TP-final_ML",
   "language": "python",
   "name": "python3"
  },
  "language_info": {
   "name": "python",
   "version": "3.10.18"
  }
 },
 "nbformat": 4,
 "nbformat_minor": 5
}
