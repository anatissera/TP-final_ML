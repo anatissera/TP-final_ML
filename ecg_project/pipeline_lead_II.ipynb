{
  "cells": [
    {
      "cell_type": "markdown",
      "metadata": {},
      "source": [
        "# CVAE ECG Anomaly Detection Pipeline\n",
        "Implementación paso a paso en Jupyter Notebook."
      ]
    },
    {
      "cell_type": "code",
      "execution_count": 1,
      "metadata": {},
      "outputs": [],
      "source": [
        "%load_ext autoreload\n",
        "%autoreload 2"
      ]
    },
    {
      "cell_type": "code",
      "execution_count": 2,
      "id": "4f61250b",
      "metadata": {},
      "outputs": [
        {
          "name": "stdout",
          "output_type": "stream",
          "text": [
            "PTB_DIR: c:\\Users\\anapt\\Repositorios\\TP-final_ML\\TP-final_ML\\data\\ptb-xl/1.0.3\n",
            "CHAP_DIR: c:\\Users\\anapt\\Repositorios\\TP-final_ML\\TP-final_ML\\data\\ChapmanShaoxing\n",
            "MIT_DIR: c:\\Users\\anapt\\Repositorios\\TP-final_ML\\TP-final_ML\\data\\mitdb\n"
          ]
        }
      ],
      "source": [
        "import os\n",
        "\n",
        "def find_data_subfolder(subfolder_name, start_path='.'):\n",
        "    current_path = os.path.abspath(start_path)\n",
        "    while True:\n",
        "        candidate = os.path.join(current_path, 'data', subfolder_name)\n",
        "        if os.path.isdir(candidate):\n",
        "            return candidate\n",
        "        parent = os.path.dirname(current_path)\n",
        "        if parent == current_path:\n",
        "            break\n",
        "        current_path = parent\n",
        "    return None\n",
        "\n",
        "# Ahora buscás las rutas relativas automáticamente:\n",
        "PTB_DIR = find_data_subfolder('ptb-xl/1.0.3')\n",
        "CHAP_DIR = find_data_subfolder('ChapmanShaoxing')\n",
        "MIT_DIR = find_data_subfolder('mitdb')\n",
        "\n",
        "# Mostrar rutas encontradas\n",
        "print(f\"PTB_DIR: {PTB_DIR}\")\n",
        "print(f\"CHAP_DIR: {CHAP_DIR}\")\n",
        "print(f\"MIT_DIR: {MIT_DIR}\")\n",
        "\n"
      ]
    },
    {
      "cell_type": "code",
      "execution_count": 6,
      "metadata": {},
      "outputs": [],
      "source": [
        "from pipeline import main, load, anomalos_ptb, anomalos_chap, metrics, metrics_fixed_threshold, load_sanos, training"
      ]
    },
    {
      "cell_type": "code",
      "execution_count": 7,
      "id": "83826e9a",
      "metadata": {},
      "outputs": [
        {
          "name": "stdout",
          "output_type": "stream",
          "text": [
            "Cargando sanos PTB-XL y Chapman…\n",
            "Total sanos disponibles: 11716 señales\n"
          ]
        }
      ],
      "source": [
        "data = load_sanos()"
      ]
    },
    {
      "cell_type": "code",
      "execution_count": 8,
      "id": "56faa1b0",
      "metadata": {},
      "outputs": [
        {
          "name": "stdout",
          "output_type": "stream",
          "text": [
            "Iniciando entrenamiento…\n"
          ]
        },
        {
          "data": {
            "application/vnd.jupyter.widget-view+json": {
              "model_id": "dcd6aa7a80b54a74afe868de7b80718e",
              "version_major": 2,
              "version_minor": 0
            },
            "text/plain": [
              "Ep 1/18 Train:   0%|          | 0/293 [00:00<?, ?it/s]"
            ]
          },
          "metadata": {},
          "output_type": "display_data"
        },
        {
          "name": "stdout",
          "output_type": "stream",
          "text": [
            "Epoch 1: Train Loss=0.9950 — Val MAE=0.6020\n"
          ]
        },
        {
          "data": {
            "application/vnd.jupyter.widget-view+json": {
              "model_id": "a671abae461b47d5b3bf8519153d5a9a",
              "version_major": 2,
              "version_minor": 0
            },
            "text/plain": [
              "Ep 2/18 Train:   0%|          | 0/293 [00:00<?, ?it/s]"
            ]
          },
          "metadata": {},
          "output_type": "display_data"
        },
        {
          "name": "stdout",
          "output_type": "stream",
          "text": [
            "Epoch 2: Train Loss=0.9914 — Val MAE=0.6020\n"
          ]
        },
        {
          "data": {
            "application/vnd.jupyter.widget-view+json": {
              "model_id": "1a7e4c6a7bee4c7486da0862f44fceaf",
              "version_major": 2,
              "version_minor": 0
            },
            "text/plain": [
              "Ep 3/18 Train:   0%|          | 0/293 [00:00<?, ?it/s]"
            ]
          },
          "metadata": {},
          "output_type": "display_data"
        },
        {
          "name": "stdout",
          "output_type": "stream",
          "text": [
            "Epoch 3: Train Loss=0.9914 — Val MAE=0.6020\n"
          ]
        },
        {
          "data": {
            "application/vnd.jupyter.widget-view+json": {
              "model_id": "83ab2c7a61aa40de8b4ef9d26311aa1d",
              "version_major": 2,
              "version_minor": 0
            },
            "text/plain": [
              "Ep 4/18 Train:   0%|          | 0/293 [00:00<?, ?it/s]"
            ]
          },
          "metadata": {},
          "output_type": "display_data"
        },
        {
          "name": "stdout",
          "output_type": "stream",
          "text": [
            "Epoch 4: Train Loss=0.9914 — Val MAE=0.6020\n"
          ]
        },
        {
          "data": {
            "application/vnd.jupyter.widget-view+json": {
              "model_id": "cedcc4da43bd4eff90229c39481b8636",
              "version_major": 2,
              "version_minor": 0
            },
            "text/plain": [
              "Ep 5/18 Train:   0%|          | 0/293 [00:00<?, ?it/s]"
            ]
          },
          "metadata": {},
          "output_type": "display_data"
        },
        {
          "name": "stdout",
          "output_type": "stream",
          "text": [
            "Epoch 5: Train Loss=0.9914 — Val MAE=0.6020\n"
          ]
        },
        {
          "data": {
            "application/vnd.jupyter.widget-view+json": {
              "model_id": "2f5ad1badafb49288fdb7fc1bc0121dc",
              "version_major": 2,
              "version_minor": 0
            },
            "text/plain": [
              "Ep 6/18 Train:   0%|          | 0/293 [00:00<?, ?it/s]"
            ]
          },
          "metadata": {},
          "output_type": "display_data"
        },
        {
          "name": "stdout",
          "output_type": "stream",
          "text": [
            "Epoch 6: Train Loss=0.9914 — Val MAE=0.6020\n"
          ]
        },
        {
          "data": {
            "application/vnd.jupyter.widget-view+json": {
              "model_id": "8fc3ef52d9434e108ba2b966fbd357b6",
              "version_major": 2,
              "version_minor": 0
            },
            "text/plain": [
              "Ep 7/18 Train:   0%|          | 0/293 [00:00<?, ?it/s]"
            ]
          },
          "metadata": {},
          "output_type": "display_data"
        },
        {
          "name": "stdout",
          "output_type": "stream",
          "text": [
            "Epoch 7: Train Loss=0.9914 — Val MAE=0.6020\n"
          ]
        },
        {
          "data": {
            "application/vnd.jupyter.widget-view+json": {
              "model_id": "bcdf45ea9ee6417aa9307d5cf8a707e3",
              "version_major": 2,
              "version_minor": 0
            },
            "text/plain": [
              "Ep 8/18 Train:   0%|          | 0/293 [00:00<?, ?it/s]"
            ]
          },
          "metadata": {},
          "output_type": "display_data"
        },
        {
          "name": "stdout",
          "output_type": "stream",
          "text": [
            "Epoch 8: Train Loss=0.9914 — Val MAE=0.6020\n"
          ]
        },
        {
          "data": {
            "application/vnd.jupyter.widget-view+json": {
              "model_id": "b7c3bd2a49374af8ab464d6470fbc67c",
              "version_major": 2,
              "version_minor": 0
            },
            "text/plain": [
              "Ep 9/18 Train:   0%|          | 0/293 [00:00<?, ?it/s]"
            ]
          },
          "metadata": {},
          "output_type": "display_data"
        },
        {
          "name": "stdout",
          "output_type": "stream",
          "text": [
            "Epoch 9: Train Loss=0.9914 — Val MAE=0.6020\n"
          ]
        },
        {
          "data": {
            "application/vnd.jupyter.widget-view+json": {
              "model_id": "9930263f3add493d8d2d2449a979eebe",
              "version_major": 2,
              "version_minor": 0
            },
            "text/plain": [
              "Ep 10/18 Train:   0%|          | 0/293 [00:00<?, ?it/s]"
            ]
          },
          "metadata": {},
          "output_type": "display_data"
        },
        {
          "name": "stdout",
          "output_type": "stream",
          "text": [
            "Epoch 10: Train Loss=0.9914 — Val MAE=0.6020\n"
          ]
        },
        {
          "data": {
            "application/vnd.jupyter.widget-view+json": {
              "model_id": "8664e6af4bfb402aab7d62a63e312bd1",
              "version_major": 2,
              "version_minor": 0
            },
            "text/plain": [
              "Ep 11/18 Train:   0%|          | 0/293 [00:00<?, ?it/s]"
            ]
          },
          "metadata": {},
          "output_type": "display_data"
        },
        {
          "name": "stdout",
          "output_type": "stream",
          "text": [
            "Epoch 11: Train Loss=0.9914 — Val MAE=0.6020\n"
          ]
        },
        {
          "data": {
            "application/vnd.jupyter.widget-view+json": {
              "model_id": "35f7445bcb674461922855ba395bc4d0",
              "version_major": 2,
              "version_minor": 0
            },
            "text/plain": [
              "Ep 12/18 Train:   0%|          | 0/293 [00:00<?, ?it/s]"
            ]
          },
          "metadata": {},
          "output_type": "display_data"
        },
        {
          "name": "stdout",
          "output_type": "stream",
          "text": [
            "Epoch 12: Train Loss=0.9914 — Val MAE=0.6020\n"
          ]
        },
        {
          "data": {
            "application/vnd.jupyter.widget-view+json": {
              "model_id": "e72f7a8f10914e75af6c60828bc1e3c0",
              "version_major": 2,
              "version_minor": 0
            },
            "text/plain": [
              "Ep 13/18 Train:   0%|          | 0/293 [00:00<?, ?it/s]"
            ]
          },
          "metadata": {},
          "output_type": "display_data"
        },
        {
          "name": "stdout",
          "output_type": "stream",
          "text": [
            "Epoch 13: Train Loss=0.9914 — Val MAE=0.6020\n"
          ]
        },
        {
          "data": {
            "application/vnd.jupyter.widget-view+json": {
              "model_id": "3c4145c3c6ca45168eb3b54a16e57b3a",
              "version_major": 2,
              "version_minor": 0
            },
            "text/plain": [
              "Ep 14/18 Train:   0%|          | 0/293 [00:00<?, ?it/s]"
            ]
          },
          "metadata": {},
          "output_type": "display_data"
        },
        {
          "name": "stdout",
          "output_type": "stream",
          "text": [
            "Epoch 14: Train Loss=0.9914 — Val MAE=0.6020\n"
          ]
        },
        {
          "data": {
            "application/vnd.jupyter.widget-view+json": {
              "model_id": "48acaa6b50a14061ba3530750d2cbd30",
              "version_major": 2,
              "version_minor": 0
            },
            "text/plain": [
              "Ep 15/18 Train:   0%|          | 0/293 [00:00<?, ?it/s]"
            ]
          },
          "metadata": {},
          "output_type": "display_data"
        },
        {
          "name": "stdout",
          "output_type": "stream",
          "text": [
            "Epoch 15: Train Loss=0.9914 — Val MAE=0.6020\n"
          ]
        },
        {
          "data": {
            "application/vnd.jupyter.widget-view+json": {
              "model_id": "d45564254d8040d2bf182ea3e6693e9d",
              "version_major": 2,
              "version_minor": 0
            },
            "text/plain": [
              "Ep 16/18 Train:   0%|          | 0/293 [00:00<?, ?it/s]"
            ]
          },
          "metadata": {},
          "output_type": "display_data"
        },
        {
          "name": "stdout",
          "output_type": "stream",
          "text": [
            "Epoch 16: Train Loss=0.9914 — Val MAE=0.6020\n"
          ]
        },
        {
          "data": {
            "application/vnd.jupyter.widget-view+json": {
              "model_id": "06519bdc14db4bf293fcff615a2d9bd3",
              "version_major": 2,
              "version_minor": 0
            },
            "text/plain": [
              "Ep 17/18 Train:   0%|          | 0/293 [00:00<?, ?it/s]"
            ]
          },
          "metadata": {},
          "output_type": "display_data"
        },
        {
          "name": "stdout",
          "output_type": "stream",
          "text": [
            "Epoch 17: Train Loss=0.9914 — Val MAE=0.6020\n"
          ]
        },
        {
          "data": {
            "application/vnd.jupyter.widget-view+json": {
              "model_id": "f40054c4ee7548b1803ac58dbe83225a",
              "version_major": 2,
              "version_minor": 0
            },
            "text/plain": [
              "Ep 18/18 Train:   0%|          | 0/293 [00:00<?, ?it/s]"
            ]
          },
          "metadata": {},
          "output_type": "display_data"
        },
        {
          "name": "stdout",
          "output_type": "stream",
          "text": [
            "Epoch 18: Train Loss=0.9914 — Val MAE=0.6020\n"
          ]
        }
      ],
      "source": [
        "model, val_loader, device= training(data) "
      ]
    },
    {
      "cell_type": "code",
      "execution_count": 29,
      "id": "12426559",
      "metadata": {},
      "outputs": [
        {
          "name": "stdout",
          "output_type": "stream",
          "text": [
            "Cargando metadata PTB-XL para anomalías…\n",
            "Threshold @12pct de sanos: 0.5110\n"
          ]
        }
      ],
      "source": [
        "df_meta, healthy_errors, thr = load(model, val_loader, device)"
      ]
    },
    {
      "cell_type": "code",
      "execution_count": 10,
      "id": "34449941",
      "metadata": {},
      "outputs": [
        {
          "name": "stdout",
          "output_type": "stream",
          "text": [
            "Anómalos PTB-XL: 12285 señales\n"
          ]
        }
      ],
      "source": [
        "ptb_errors = anomalos_ptb(df_meta, model, device)"
      ]
    },
    {
      "cell_type": "code",
      "execution_count": 30,
      "id": "101a2da1",
      "metadata": {},
      "outputs": [
        {
          "data": {
            "image/png": "[encoded data removed]",
            "text/plain": [
              "<Figure size 1000x500 with 1 Axes>"
            ]
          },
          "metadata": {},
          "output_type": "display_data"
        }
      ],
      "source": [
        "import matplotlib.pyplot as plt\n",
        "import numpy as np\n",
        "\n",
        "\n",
        "# 3. Visualizar distribución de errores\n",
        "plt.figure(figsize=(10,5))\n",
        "plt.hist(healthy_errors, bins=50, alpha=0.6, label='Sanos')\n",
        "plt.hist(ptb_errors,    bins=50, alpha=0.6, label='Anómalos PTB')\n",
        "plt.axvline(thr, color='k', linestyle='--', label='Umbral 95%')\n",
        "plt.xlabel('MAE (Error de reconstrucción)')\n",
        "plt.ylabel('Frecuencia')\n",
        "plt.title('Distribución de errores de reconstrucción (MAE)')\n",
        "plt.legend()\n",
        "plt.grid(True)\n",
        "plt.tight_layout()\n",
        "plt.show()"
      ]
    },
    {
      "cell_type": "code",
      "execution_count": 12,
      "id": "b79c3461",
      "metadata": {},
      "outputs": [
        {
          "name": "stdout",
          "output_type": "stream",
          "text": [
            "Anómalos Chapman: 8045 señales\n"
          ]
        }
      ],
      "source": [
        "chap_errors = anomalos_chap(model, device)"
      ]
    },
    {
      "cell_type": "code",
      "execution_count": 31,
      "id": "d93ab4dc",
      "metadata": {},
      "outputs": [
        {
          "data": {
            "image/png": "[encoded data removed]",
            "text/plain": [
              "<Figure size 640x480 with 1 Axes>"
            ]
          },
          "metadata": {},
          "output_type": "display_data"
        }
      ],
      "source": [
        "from sklearn.metrics import roc_curve, auc\n",
        "\n",
        "y_true = np.concatenate([\n",
        "    np.zeros_like(healthy_errors),\n",
        "    np.ones_like(ptb_errors),\n",
        "    np.ones_like(chap_errors)\n",
        "])\n",
        "y_scores = np.concatenate([\n",
        "    healthy_errors,\n",
        "    ptb_errors,\n",
        "    chap_errors\n",
        "])\n",
        "\n",
        "fpr, tpr, thresholds = roc_curve(y_true, y_scores)\n",
        "roc_auc = auc(fpr, tpr)\n",
        "\n",
        "plt.plot(fpr, tpr, label=f'AUC = {roc_auc:.3f}')\n",
        "plt.plot([0,1],[0,1],'k--')\n",
        "plt.xlabel('FPR')\n",
        "plt.ylabel('TPR')\n",
        "plt.title('Curva ROC - Anomaly Detection')\n",
        "plt.legend()\n",
        "plt.grid(True)\n",
        "plt.show()\n"
      ]
    },
    {
      "cell_type": "markdown",
      "id": "31e46e0a",
      "metadata": {},
      "source": [
        "ES UNA PORONGA!!"
      ]
    },
    {
      "cell_type": "code",
      "execution_count": 28,
      "id": "a34d19cb",
      "metadata": {},
      "outputs": [
        {
          "name": "stdout",
          "output_type": "stream",
          "text": [
            "🔍 Mejor threshold por F1: 0.1216 — F1: 0.9455\n"
          ]
        }
      ],
      "source": [
        "from sklearn.metrics import f1_score\n",
        "\n",
        "best_f1 = 0\n",
        "best_thr = None\n",
        "for t in thresholds:\n",
        "    y_pred = y_scores > t\n",
        "    f1 = f1_score(y_true, y_pred)\n",
        "    if f1 > best_f1:\n",
        "        best_f1 = f1\n",
        "        best_thr = t\n",
        "\n",
        "print(f\"🔍 Mejor threshold por F1: {best_thr:.4f} — F1: {best_f1:.4f}\")\n"
      ]
    },
    {
      "cell_type": "code",
      "execution_count": 32,
      "id": "e296e201",
      "metadata": {},
      "outputs": [
        {
          "name": "stdout",
          "output_type": "stream",
          "text": [
            "Métricas (con umbral percentil 12 de sanos): {'precision': 0.887059598287784, 'recall': 0.7950811608460403, 'f1': 0.8385557169537249, 'auc': np.float64(0.4583600426509331)}\n",
            "Resultados guardados en metrics_combined_lead_II.json\n"
          ]
        }
      ],
      "source": [
        "metrics_fixed_threshold(healthy_errors, ptb_errors, chap_errors, thr)"
      ]
    }
  ],
  "metadata": {
    "kernelspec": {
      "display_name": "TP-final_ML",
      "language": "python",
      "name": "python3"
    },
    "language_info": {
      "codemirror_mode": {
        "name": "ipython",
        "version": 3
      },
      "file_extension": ".py",
      "mimetype": "text/x-python",
      "name": "python",
      "nbconvert_exporter": "python",
      "pygments_lexer": "ipython3",
      "version": "3.10.18"
    }
  },
  "nbformat": 4,
  "nbformat_minor": 5
}
