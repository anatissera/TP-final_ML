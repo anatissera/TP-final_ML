{
  "cells": [
    {
      "cell_type": "markdown",
      "metadata": {},
      "source": [
        "# CVAE ECG Anomaly Detection Pipeline\n",
        "Implementación paso a paso en Jupyter Notebook."
      ]
    },
    {
      "cell_type": "code",
      "execution_count": 4,
      "metadata": {},
      "outputs": [
        {
          "name": "stdout",
          "output_type": "stream",
          "text": [
            "The autoreload extension is already loaded. To reload it, use:\n",
            "  %reload_ext autoreload\n"
          ]
        }
      ],
      "source": [
        "%load_ext autoreload\n",
        "%autoreload 2"
      ]
    },
    {
      "cell_type": "code",
      "execution_count": 5,
      "id": "4f61250b",
      "metadata": {},
      "outputs": [
        {
          "name": "stdout",
          "output_type": "stream",
          "text": [
            "PTB_DIR: c:\\Users\\anapt\\Repositorios\\TP-final_ML\\TP-final_ML\\data\\ptb-xl/1.0.3\n",
            "CHAP_DIR: c:\\Users\\anapt\\Repositorios\\TP-final_ML\\TP-final_ML\\data\\ChapmanShaoxing\n",
            "MIT_DIR: c:\\Users\\anapt\\Repositorios\\TP-final_ML\\TP-final_ML\\data\\mitdb\n"
          ]
        }
      ],
      "source": [
        "import os\n",
        "\n",
        "def find_data_subfolder(subfolder_name, start_path='.'):\n",
        "    current_path = os.path.abspath(start_path)\n",
        "    while True:\n",
        "        candidate = os.path.join(current_path, 'data', subfolder_name)\n",
        "        if os.path.isdir(candidate):\n",
        "            return candidate\n",
        "        parent = os.path.dirname(current_path)\n",
        "        if parent == current_path:\n",
        "            break\n",
        "        current_path = parent\n",
        "    return None\n",
        "\n",
        "# Ahora buscás las rutas relativas automáticamente:\n",
        "PTB_DIR = find_data_subfolder('ptb-xl/1.0.3')\n",
        "CHAP_DIR = find_data_subfolder('ChapmanShaoxing')\n",
        "MIT_DIR = find_data_subfolder('mitdb')\n",
        "\n",
        "# Mostrar rutas encontradas\n",
        "print(f\"PTB_DIR: {PTB_DIR}\")\n",
        "print(f\"CHAP_DIR: {CHAP_DIR}\")\n",
        "print(f\"MIT_DIR: {MIT_DIR}\")\n",
        "\n"
      ]
    },
    {
      "cell_type": "code",
      "execution_count": 10,
      "metadata": {},
      "outputs": [],
      "source": [
        "from pipeline import main, load, anomalos_ptb, anomalos_chap, metrics"
      ]
    },
    {
      "cell_type": "code",
      "execution_count": 7,
      "id": "56faa1b0",
      "metadata": {},
      "outputs": [
        {
          "name": "stdout",
          "output_type": "stream",
          "text": [
            "Cargando sanos PTB-XL y Chapman…\n",
            "Total sanos disponibles: 11716 señales\n"
          ]
        },
        {
          "name": "stderr",
          "output_type": "stream",
          "text": [
            "c:\\Users\\anapt\\Repositorios\\TP-final_ML\\TP-final_ML\\ecg_project\\pipeline.py:128: UserWarning: Creating a tensor from a list of numpy.ndarrays is extremely slow. Please consider converting the list to a single numpy.ndarray with numpy.array() before converting to a tensor. (Triggered internally at C:\\actions-runner\\_work\\pytorch\\pytorch\\pytorch\\torch\\csrc\\utils\\tensor_new.cpp:257.)\n",
            "  train_loader = DataLoader(TensorDataset(torch.tensor(train_set)), batch_size=BATCH, shuffle=True)\n"
          ]
        },
        {
          "name": "stdout",
          "output_type": "stream",
          "text": [
            "Iniciando entrenamiento…\n"
          ]
        },
        {
          "data": {
            "application/vnd.jupyter.widget-view+json": {
              "model_id": "d5b14a08db5f4ef69f92834f6c297182",
              "version_major": 2,
              "version_minor": 0
            },
            "text/plain": [
              "Ep 1/18 Train:   0%|          | 0/293 [00:00<?, ?it/s]"
            ]
          },
          "metadata": {},
          "output_type": "display_data"
        },
        {
          "name": "stdout",
          "output_type": "stream",
          "text": [
            "Epoch 1: Train Loss=1.0096 — Val MAE=0.5636\n"
          ]
        },
        {
          "data": {
            "application/vnd.jupyter.widget-view+json": {
              "model_id": "19387c4cf207401b88a665a14c75a334",
              "version_major": 2,
              "version_minor": 0
            },
            "text/plain": [
              "Ep 2/18 Train:   0%|          | 0/293 [00:00<?, ?it/s]"
            ]
          },
          "metadata": {},
          "output_type": "display_data"
        },
        {
          "name": "stdout",
          "output_type": "stream",
          "text": [
            "Epoch 2: Train Loss=0.9908 — Val MAE=0.5635\n"
          ]
        },
        {
          "data": {
            "application/vnd.jupyter.widget-view+json": {
              "model_id": "82020259f4e242488d2ba3a7053e1cee",
              "version_major": 2,
              "version_minor": 0
            },
            "text/plain": [
              "Ep 3/18 Train:   0%|          | 0/293 [00:00<?, ?it/s]"
            ]
          },
          "metadata": {},
          "output_type": "display_data"
        },
        {
          "name": "stdout",
          "output_type": "stream",
          "text": [
            "Epoch 3: Train Loss=0.9907 — Val MAE=0.5635\n"
          ]
        },
        {
          "data": {
            "application/vnd.jupyter.widget-view+json": {
              "model_id": "a99d5f18d4454fbe99099dd2c5dc9c5e",
              "version_major": 2,
              "version_minor": 0
            },
            "text/plain": [
              "Ep 4/18 Train:   0%|          | 0/293 [00:00<?, ?it/s]"
            ]
          },
          "metadata": {},
          "output_type": "display_data"
        },
        {
          "name": "stdout",
          "output_type": "stream",
          "text": [
            "Epoch 4: Train Loss=0.9907 — Val MAE=0.5635\n"
          ]
        },
        {
          "data": {
            "application/vnd.jupyter.widget-view+json": {
              "model_id": "1c5ffdc2c6ea4fb7bebc46c107079d90",
              "version_major": 2,
              "version_minor": 0
            },
            "text/plain": [
              "Ep 5/18 Train:   0%|          | 0/293 [00:00<?, ?it/s]"
            ]
          },
          "metadata": {},
          "output_type": "display_data"
        },
        {
          "name": "stdout",
          "output_type": "stream",
          "text": [
            "Epoch 5: Train Loss=0.9907 — Val MAE=0.5634\n"
          ]
        },
        {
          "data": {
            "application/vnd.jupyter.widget-view+json": {
              "model_id": "ce8ebe2aa8274e17a0d01de9cf5f336f",
              "version_major": 2,
              "version_minor": 0
            },
            "text/plain": [
              "Ep 6/18 Train:   0%|          | 0/293 [00:00<?, ?it/s]"
            ]
          },
          "metadata": {},
          "output_type": "display_data"
        },
        {
          "name": "stdout",
          "output_type": "stream",
          "text": [
            "Epoch 6: Train Loss=0.9907 — Val MAE=0.5634\n"
          ]
        },
        {
          "data": {
            "application/vnd.jupyter.widget-view+json": {
              "model_id": "8cd264ba6eb64168a6d55f8409c5ec0e",
              "version_major": 2,
              "version_minor": 0
            },
            "text/plain": [
              "Ep 7/18 Train:   0%|          | 0/293 [00:00<?, ?it/s]"
            ]
          },
          "metadata": {},
          "output_type": "display_data"
        },
        {
          "name": "stdout",
          "output_type": "stream",
          "text": [
            "Epoch 7: Train Loss=0.9907 — Val MAE=0.5634\n"
          ]
        },
        {
          "data": {
            "application/vnd.jupyter.widget-view+json": {
              "model_id": "262dfe23c3f94bb4b2107a9fcb4d6639",
              "version_major": 2,
              "version_minor": 0
            },
            "text/plain": [
              "Ep 8/18 Train:   0%|          | 0/293 [00:00<?, ?it/s]"
            ]
          },
          "metadata": {},
          "output_type": "display_data"
        },
        {
          "name": "stdout",
          "output_type": "stream",
          "text": [
            "Epoch 8: Train Loss=0.9907 — Val MAE=0.5634\n"
          ]
        },
        {
          "data": {
            "application/vnd.jupyter.widget-view+json": {
              "model_id": "ccfc6469d0414cab9ddfac316af889bd",
              "version_major": 2,
              "version_minor": 0
            },
            "text/plain": [
              "Ep 9/18 Train:   0%|          | 0/293 [00:00<?, ?it/s]"
            ]
          },
          "metadata": {},
          "output_type": "display_data"
        },
        {
          "name": "stdout",
          "output_type": "stream",
          "text": [
            "Epoch 9: Train Loss=0.9907 — Val MAE=0.5634\n"
          ]
        },
        {
          "data": {
            "application/vnd.jupyter.widget-view+json": {
              "model_id": "ba4364d9597c40259815d9210fa298b5",
              "version_major": 2,
              "version_minor": 0
            },
            "text/plain": [
              "Ep 10/18 Train:   0%|          | 0/293 [00:00<?, ?it/s]"
            ]
          },
          "metadata": {},
          "output_type": "display_data"
        },
        {
          "name": "stdout",
          "output_type": "stream",
          "text": [
            "Epoch 10: Train Loss=0.9907 — Val MAE=0.5634\n"
          ]
        },
        {
          "data": {
            "application/vnd.jupyter.widget-view+json": {
              "model_id": "00d0e70512e247e8838338c6dbaa6b7c",
              "version_major": 2,
              "version_minor": 0
            },
            "text/plain": [
              "Ep 11/18 Train:   0%|          | 0/293 [00:00<?, ?it/s]"
            ]
          },
          "metadata": {},
          "output_type": "display_data"
        },
        {
          "name": "stdout",
          "output_type": "stream",
          "text": [
            "Epoch 11: Train Loss=0.9907 — Val MAE=0.5634\n"
          ]
        },
        {
          "data": {
            "application/vnd.jupyter.widget-view+json": {
              "model_id": "0e2fd85b70f54f979f3c2d6af59963f6",
              "version_major": 2,
              "version_minor": 0
            },
            "text/plain": [
              "Ep 12/18 Train:   0%|          | 0/293 [00:00<?, ?it/s]"
            ]
          },
          "metadata": {},
          "output_type": "display_data"
        },
        {
          "name": "stdout",
          "output_type": "stream",
          "text": [
            "Epoch 12: Train Loss=0.9907 — Val MAE=0.5634\n"
          ]
        },
        {
          "data": {
            "application/vnd.jupyter.widget-view+json": {
              "model_id": "dfd60477b4484cf88e2f57f76b90e768",
              "version_major": 2,
              "version_minor": 0
            },
            "text/plain": [
              "Ep 13/18 Train:   0%|          | 0/293 [00:00<?, ?it/s]"
            ]
          },
          "metadata": {},
          "output_type": "display_data"
        },
        {
          "name": "stdout",
          "output_type": "stream",
          "text": [
            "Epoch 13: Train Loss=0.9907 — Val MAE=0.5634\n"
          ]
        },
        {
          "data": {
            "application/vnd.jupyter.widget-view+json": {
              "model_id": "b29b06b6d950417098b7ee4ec1a1f01d",
              "version_major": 2,
              "version_minor": 0
            },
            "text/plain": [
              "Ep 14/18 Train:   0%|          | 0/293 [00:00<?, ?it/s]"
            ]
          },
          "metadata": {},
          "output_type": "display_data"
        },
        {
          "name": "stdout",
          "output_type": "stream",
          "text": [
            "Epoch 14: Train Loss=0.9907 — Val MAE=0.5634\n"
          ]
        },
        {
          "data": {
            "application/vnd.jupyter.widget-view+json": {
              "model_id": "4deb2171454742a4bf16eabc1d426534",
              "version_major": 2,
              "version_minor": 0
            },
            "text/plain": [
              "Ep 15/18 Train:   0%|          | 0/293 [00:00<?, ?it/s]"
            ]
          },
          "metadata": {},
          "output_type": "display_data"
        },
        {
          "name": "stdout",
          "output_type": "stream",
          "text": [
            "Epoch 15: Train Loss=0.9907 — Val MAE=0.5634\n"
          ]
        },
        {
          "data": {
            "application/vnd.jupyter.widget-view+json": {
              "model_id": "b919ceb61c6b49b0ac27b6700f3bebc7",
              "version_major": 2,
              "version_minor": 0
            },
            "text/plain": [
              "Ep 16/18 Train:   0%|          | 0/293 [00:00<?, ?it/s]"
            ]
          },
          "metadata": {},
          "output_type": "display_data"
        },
        {
          "name": "stdout",
          "output_type": "stream",
          "text": [
            "Epoch 16: Train Loss=0.9907 — Val MAE=0.5634\n"
          ]
        },
        {
          "data": {
            "application/vnd.jupyter.widget-view+json": {
              "model_id": "50e5f616e881425e80f12fd2f7beb1ae",
              "version_major": 2,
              "version_minor": 0
            },
            "text/plain": [
              "Ep 17/18 Train:   0%|          | 0/293 [00:00<?, ?it/s]"
            ]
          },
          "metadata": {},
          "output_type": "display_data"
        },
        {
          "name": "stdout",
          "output_type": "stream",
          "text": [
            "Epoch 17: Train Loss=0.9907 — Val MAE=0.5634\n"
          ]
        },
        {
          "data": {
            "application/vnd.jupyter.widget-view+json": {
              "model_id": "7d88a40c5baa427785e55daa979f841f",
              "version_major": 2,
              "version_minor": 0
            },
            "text/plain": [
              "Ep 18/18 Train:   0%|          | 0/293 [00:00<?, ?it/s]"
            ]
          },
          "metadata": {},
          "output_type": "display_data"
        },
        {
          "name": "stdout",
          "output_type": "stream",
          "text": [
            "Epoch 18: Train Loss=0.9907 — Val MAE=0.5634\n"
          ]
        }
      ],
      "source": [
        "model, val_loader, device= main()"
      ]
    },
    {
      "cell_type": "code",
      "execution_count": 11,
      "id": "12426559",
      "metadata": {},
      "outputs": [
        {
          "name": "stdout",
          "output_type": "stream",
          "text": [
            "Cargando metadata PTB-XL para anomalías…\n",
            "Hold-out sanos MAE mean=0.9887, std=0.0545\n"
          ]
        }
      ],
      "source": [
        "df_meta, healthy_errors= load(model, val_loader, device)"
      ]
    },
    {
      "cell_type": "code",
      "execution_count": 12,
      "id": "101a2da1",
      "metadata": {},
      "outputs": [
        {
          "name": "stdout",
          "output_type": "stream",
          "text": [
            "Anómalos PTB-XL: 12285 señales\n"
          ]
        }
      ],
      "source": [
        "ptb_errors= anomalos_ptb(df_meta, model, device)"
      ]
    },
    {
      "cell_type": "code",
      "execution_count": 13,
      "id": "e767e8d9",
      "metadata": {},
      "outputs": [
        {
          "name": "stdout",
          "output_type": "stream",
          "text": [
            "Anómalos Chapman: 8045 señales\n"
          ]
        }
      ],
      "source": [
        "chap_errors = anomalos_chap(model, device)"
      ]
    },
    {
      "cell_type": "code",
      "execution_count": 14,
      "id": "e6e5a055",
      "metadata": {},
      "outputs": [
        {
          "name": "stdout",
          "output_type": "stream",
          "text": [
            "Métricas final (sanos vs PTB+Chapman anomalías): {'precision': 1.0, 'recall': 0.00029513034923757994, 'f1': 0.0005900865460267506, 'auc': np.float64(0.5001475651746188)}\n",
            "Resultados guardados en metrics_combined.json\n"
          ]
        }
      ],
      "source": [
        "metrics(healthy_errors, ptb_errors, chap_errors)"
      ]
    }
  ],
  "metadata": {
    "kernelspec": {
      "display_name": "TP-final_ML",
      "language": "python",
      "name": "python3"
    },
    "language_info": {
      "codemirror_mode": {
        "name": "ipython",
        "version": 3
      },
      "file_extension": ".py",
      "mimetype": "text/x-python",
      "name": "python",
      "nbconvert_exporter": "python",
      "pygments_lexer": "ipython3",
      "version": "3.10.18"
    }
  },
  "nbformat": 4,
  "nbformat_minor": 5
}
