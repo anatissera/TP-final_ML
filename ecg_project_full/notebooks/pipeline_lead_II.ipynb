{
 "cells": [
  {
   "cell_type": "code",
   "execution_count": 36,
   "id": "4a7e7aa4",
   "metadata": {},
   "outputs": [],
   "source": [
    "import sys\n",
    "import os\n",
    "\n",
    "sys.path.append(os.path.abspath('../'))  # añade ecg_project_full al path\n"
   ]
  },
  {
   "cell_type": "code",
   "execution_count": 37,
   "id": "8c4184db",
   "metadata": {},
   "outputs": [],
   "source": [
    "import numpy as np, os, matplotlib.pyplot as plt\n",
    "from scripts.preprocess import preprocess_signal, segment_beats\n",
    "from scripts.train_cvae import train, CVAE\n",
    "from scripts.extract_latents import extract_errors_and_latents\n",
    "from classifiers.train_classifier import train_classifier\n",
    "from utils.metrics import compute_roc, compute_pr, optimal_threshold"
   ]
  },
  {
   "cell_type": "code",
   "execution_count": null,
   "id": "1e0568ca",
   "metadata": {},
   "outputs": [
    {
     "name": "stdout",
     "output_type": "stream",
     "text": [
      "Preprocessing done\n"
     ]
    }
   ],
   "source": [
    "# En la primera celda de tu pipeline_lead_II.ipynb:\n",
    "raw_dir   = r\"C:/Users/anapt/Repositorios/TP-final_ML/TP-final_ML\\data\"\n",
    "beats_dir = r\"C:/Users/anapt/Repositorios/TP-final_ML/TP-final_ML\\data/processed/beats\"\n",
    "full_dir  = r\"C:/Users/anapt/Repositorios/TP-final_ML/TP-final_ML\\data/processed/full\"\n",
    "\n",
    "os.makedirs(beats_dir, exist_ok=True)\n",
    "os.makedirs(full_dir,  exist_ok=True)\n",
    "\n",
    "valid_files = [f for f in os.listdir(raw_dir) if f.endswith('.npy')]\n",
    "print(\"Archivos raw encontrados:\", valid_files)\n",
    "\n",
    "for fname in valid_files:\n",
    "    data = np.load(os.path.join(raw_dir, fname))\n",
    "    p = preprocess_signal(data)\n",
    "    b = segment_beats(p)\n",
    "    # Sólo guardamos si realmente hay beats\n",
    "    if b.size:\n",
    "        np.save(os.path.join(beats_dir, fname.replace('.npy','_beats.npy')), b)\n",
    "        np.save(os.path.join(full_dir, fname), p)\n",
    "\n",
    "print(\"Preprocessing done\")\n",
    "print(\"Archivos en beats_dir:\", os.listdir(beats_dir))\n"
   ]
  },
  {
   "cell_type": "code",
   "execution_count": 39,
   "id": "5e7c64b7",
   "metadata": {},
   "outputs": [
    {
     "name": "stdout",
     "output_type": "stream",
     "text": [
      "Archivos en beats_dir: []\n"
     ]
    }
   ],
   "source": [
    "import os\n",
    "\n",
    "print(\"Archivos en beats_dir:\", os.listdir(beats_dir))\n"
   ]
  },
  {
   "cell_type": "code",
   "execution_count": 40,
   "id": "f96e190c",
   "metadata": {},
   "outputs": [
    {
     "name": "stdout",
     "output_type": "stream",
     "text": [
      "Archivos .npy válidos: []\n"
     ]
    }
   ],
   "source": [
    "valid_files = [f for f in os.listdir(beats_dir) if f.endswith('.npy')]\n",
    "print(\"Archivos .npy válidos:\", valid_files)\n"
   ]
  },
  {
   "cell_type": "code",
   "execution_count": 41,
   "id": "0ea9608a",
   "metadata": {},
   "outputs": [
    {
     "name": "stdout",
     "output_type": "stream",
     "text": [
      "No se encontraron datos de beats para entrenar.\n"
     ]
    }
   ],
   "source": [
    "# Train CVAE\n",
    "import tensorflow as tf\n",
    "beats=[]\n",
    "# for f in os.listdir(beats): beats.append(np.load(os.path.join(beats,f)))\n",
    "# beats=np.concatenate(beats,0)\n",
    "# dataset=tf.data.Dataset.from_tensor_slices(beats[...,None]).batch(32)\n",
    "# model=train(dataset,epochs=50)\n",
    "\n",
    "for f in os.listdir(beats_dir):\n",
    "    if f.endswith('.npy'):\n",
    "        beats.append(np.load(os.path.join(beats_dir, f)))\n",
    "\n",
    "if beats:\n",
    "    beats = np.concatenate(beats, axis=0)\n",
    "    dataset = tf.data.Dataset.from_tensor_slices(beats[..., None]).batch(32)\n",
    "    model = train(dataset, epochs=50)\n",
    "else:\n",
    "    print(\"No se encontraron datos de beats para entrenar.\")\n"
   ]
  },
  {
   "cell_type": "code",
   "execution_count": 42,
   "id": "ead03a90",
   "metadata": {},
   "outputs": [
    {
     "ename": "FileNotFoundError",
     "evalue": "[Errno 2] Unable to synchronously open file (unable to open file: name = 'cvae_beats_weights.h5', errno = 2, error message = 'No such file or directory', flags = 0, o_flags = 0)",
     "output_type": "error",
     "traceback": [
      "\u001b[1;31m---------------------------------------------------------------------------\u001b[0m",
      "\u001b[1;31mFileNotFoundError\u001b[0m                         Traceback (most recent call last)",
      "Cell \u001b[1;32mIn[42], line 2\u001b[0m\n\u001b[0;32m      1\u001b[0m \u001b[38;5;66;03m# Extract\u001b[39;00m\n\u001b[1;32m----> 2\u001b[0m \u001b[43mextract_errors_and_latents\u001b[49m\u001b[43m(\u001b[49m\u001b[38;5;124;43m'\u001b[39;49m\u001b[38;5;124;43mcvae_beats_weights.h5\u001b[39;49m\u001b[38;5;124;43m'\u001b[39;49m\u001b[43m,\u001b[49m\u001b[43m \u001b[49m\u001b[43mbeats\u001b[49m\u001b[43m,\u001b[49m\u001b[43m \u001b[49m\u001b[38;5;124;43m'\u001b[39;49m\u001b[38;5;124;43merrors.npy\u001b[39;49m\u001b[38;5;124;43m'\u001b[39;49m\u001b[43m,\u001b[49m\u001b[43m \u001b[49m\u001b[38;5;124;43m'\u001b[39;49m\u001b[38;5;124;43mz_mean.npy\u001b[39;49m\u001b[38;5;124;43m'\u001b[39;49m\u001b[43m)\u001b[49m\n\u001b[0;32m      3\u001b[0m errors, latents \u001b[38;5;241m=\u001b[39m np\u001b[38;5;241m.\u001b[39mload(\u001b[38;5;124m'\u001b[39m\u001b[38;5;124merrors.npy\u001b[39m\u001b[38;5;124m'\u001b[39m), np\u001b[38;5;241m.\u001b[39mload(\u001b[38;5;124m'\u001b[39m\u001b[38;5;124mz_mean.npy\u001b[39m\u001b[38;5;124m'\u001b[39m)\n",
      "File \u001b[1;32mc:\\Users\\anapt\\Repositorios\\TP-final_ML\\TP-final_ML\\ecg_project_full\\scripts\\extract_latents.py:10\u001b[0m, in \u001b[0;36mextract_errors_and_latents\u001b[1;34m(model_weights, beats_folder, out_errors, out_latents)\u001b[0m\n\u001b[0;32m      8\u001b[0m model \u001b[38;5;241m=\u001b[39m CVAE()\n\u001b[0;32m      9\u001b[0m model\u001b[38;5;241m.\u001b[39mbuild(input_shape\u001b[38;5;241m=\u001b[39m(\u001b[38;5;28;01mNone\u001b[39;00m, \u001b[38;5;241m128\u001b[39m, \u001b[38;5;241m1\u001b[39m))\n\u001b[1;32m---> 10\u001b[0m \u001b[43mmodel\u001b[49m\u001b[38;5;241;43m.\u001b[39;49m\u001b[43mload_weights\u001b[49m\u001b[43m(\u001b[49m\u001b[43mmodel_weights\u001b[49m\u001b[43m)\u001b[49m\n\u001b[0;32m     11\u001b[0m errors, latents \u001b[38;5;241m=\u001b[39m [], []\n\u001b[0;32m     12\u001b[0m \u001b[38;5;28;01mfor\u001b[39;00m f \u001b[38;5;129;01min\u001b[39;00m os\u001b[38;5;241m.\u001b[39mlistdir(beats_folder):\n",
      "File \u001b[1;32mc:\\ProgramData\\anaconda3\\envs\\TP-final_ML\\lib\\site-packages\\keras\\src\\utils\\traceback_utils.py:122\u001b[0m, in \u001b[0;36mfilter_traceback.<locals>.error_handler\u001b[1;34m(*args, **kwargs)\u001b[0m\n\u001b[0;32m    119\u001b[0m     filtered_tb \u001b[38;5;241m=\u001b[39m _process_traceback_frames(e\u001b[38;5;241m.\u001b[39m__traceback__)\n\u001b[0;32m    120\u001b[0m     \u001b[38;5;66;03m# To get the full stack trace, call:\u001b[39;00m\n\u001b[0;32m    121\u001b[0m     \u001b[38;5;66;03m# `keras.config.disable_traceback_filtering()`\u001b[39;00m\n\u001b[1;32m--> 122\u001b[0m     \u001b[38;5;28;01mraise\u001b[39;00m e\u001b[38;5;241m.\u001b[39mwith_traceback(filtered_tb) \u001b[38;5;28;01mfrom\u001b[39;00m\u001b[38;5;250m \u001b[39m\u001b[38;5;28;01mNone\u001b[39;00m\n\u001b[0;32m    123\u001b[0m \u001b[38;5;28;01mfinally\u001b[39;00m:\n\u001b[0;32m    124\u001b[0m     \u001b[38;5;28;01mdel\u001b[39;00m filtered_tb\n",
      "File \u001b[1;32mc:\\ProgramData\\anaconda3\\envs\\TP-final_ML\\lib\\site-packages\\h5py\\_hl\\files.py:561\u001b[0m, in \u001b[0;36mFile.__init__\u001b[1;34m(self, name, mode, driver, libver, userblock_size, swmr, rdcc_nslots, rdcc_nbytes, rdcc_w0, track_order, fs_strategy, fs_persist, fs_threshold, fs_page_size, page_buf_size, min_meta_keep, min_raw_keep, locking, alignment_threshold, alignment_interval, meta_block_size, **kwds)\u001b[0m\n\u001b[0;32m    552\u001b[0m     fapl \u001b[38;5;241m=\u001b[39m make_fapl(driver, libver, rdcc_nslots, rdcc_nbytes, rdcc_w0,\n\u001b[0;32m    553\u001b[0m                      locking, page_buf_size, min_meta_keep, min_raw_keep,\n\u001b[0;32m    554\u001b[0m                      alignment_threshold\u001b[38;5;241m=\u001b[39malignment_threshold,\n\u001b[0;32m    555\u001b[0m                      alignment_interval\u001b[38;5;241m=\u001b[39malignment_interval,\n\u001b[0;32m    556\u001b[0m                      meta_block_size\u001b[38;5;241m=\u001b[39mmeta_block_size,\n\u001b[0;32m    557\u001b[0m                      \u001b[38;5;241m*\u001b[39m\u001b[38;5;241m*\u001b[39mkwds)\n\u001b[0;32m    558\u001b[0m     fcpl \u001b[38;5;241m=\u001b[39m make_fcpl(track_order\u001b[38;5;241m=\u001b[39mtrack_order, fs_strategy\u001b[38;5;241m=\u001b[39mfs_strategy,\n\u001b[0;32m    559\u001b[0m                      fs_persist\u001b[38;5;241m=\u001b[39mfs_persist, fs_threshold\u001b[38;5;241m=\u001b[39mfs_threshold,\n\u001b[0;32m    560\u001b[0m                      fs_page_size\u001b[38;5;241m=\u001b[39mfs_page_size)\n\u001b[1;32m--> 561\u001b[0m     fid \u001b[38;5;241m=\u001b[39m \u001b[43mmake_fid\u001b[49m\u001b[43m(\u001b[49m\u001b[43mname\u001b[49m\u001b[43m,\u001b[49m\u001b[43m \u001b[49m\u001b[43mmode\u001b[49m\u001b[43m,\u001b[49m\u001b[43m \u001b[49m\u001b[43muserblock_size\u001b[49m\u001b[43m,\u001b[49m\u001b[43m \u001b[49m\u001b[43mfapl\u001b[49m\u001b[43m,\u001b[49m\u001b[43m \u001b[49m\u001b[43mfcpl\u001b[49m\u001b[43m,\u001b[49m\u001b[43m \u001b[49m\u001b[43mswmr\u001b[49m\u001b[38;5;241;43m=\u001b[39;49m\u001b[43mswmr\u001b[49m\u001b[43m)\u001b[49m\n\u001b[0;32m    563\u001b[0m \u001b[38;5;28;01mif\u001b[39;00m \u001b[38;5;28misinstance\u001b[39m(libver, \u001b[38;5;28mtuple\u001b[39m):\n\u001b[0;32m    564\u001b[0m     \u001b[38;5;28mself\u001b[39m\u001b[38;5;241m.\u001b[39m_libver \u001b[38;5;241m=\u001b[39m libver\n",
      "File \u001b[1;32mc:\\ProgramData\\anaconda3\\envs\\TP-final_ML\\lib\\site-packages\\h5py\\_hl\\files.py:235\u001b[0m, in \u001b[0;36mmake_fid\u001b[1;34m(name, mode, userblock_size, fapl, fcpl, swmr)\u001b[0m\n\u001b[0;32m    233\u001b[0m     \u001b[38;5;28;01mif\u001b[39;00m swmr \u001b[38;5;129;01mand\u001b[39;00m swmr_support:\n\u001b[0;32m    234\u001b[0m         flags \u001b[38;5;241m|\u001b[39m\u001b[38;5;241m=\u001b[39m h5f\u001b[38;5;241m.\u001b[39mACC_SWMR_READ\n\u001b[1;32m--> 235\u001b[0m     fid \u001b[38;5;241m=\u001b[39m \u001b[43mh5f\u001b[49m\u001b[38;5;241;43m.\u001b[39;49m\u001b[43mopen\u001b[49m\u001b[43m(\u001b[49m\u001b[43mname\u001b[49m\u001b[43m,\u001b[49m\u001b[43m \u001b[49m\u001b[43mflags\u001b[49m\u001b[43m,\u001b[49m\u001b[43m \u001b[49m\u001b[43mfapl\u001b[49m\u001b[38;5;241;43m=\u001b[39;49m\u001b[43mfapl\u001b[49m\u001b[43m)\u001b[49m\n\u001b[0;32m    236\u001b[0m \u001b[38;5;28;01melif\u001b[39;00m mode \u001b[38;5;241m==\u001b[39m \u001b[38;5;124m'\u001b[39m\u001b[38;5;124mr+\u001b[39m\u001b[38;5;124m'\u001b[39m:\n\u001b[0;32m    237\u001b[0m     fid \u001b[38;5;241m=\u001b[39m h5f\u001b[38;5;241m.\u001b[39mopen(name, h5f\u001b[38;5;241m.\u001b[39mACC_RDWR, fapl\u001b[38;5;241m=\u001b[39mfapl)\n",
      "File \u001b[1;32mh5py\\\\_objects.pyx:54\u001b[0m, in \u001b[0;36mh5py._objects.with_phil.wrapper\u001b[1;34m()\u001b[0m\n",
      "File \u001b[1;32mh5py\\\\_objects.pyx:55\u001b[0m, in \u001b[0;36mh5py._objects.with_phil.wrapper\u001b[1;34m()\u001b[0m\n",
      "File \u001b[1;32mh5py\\\\h5f.pyx:102\u001b[0m, in \u001b[0;36mh5py.h5f.open\u001b[1;34m()\u001b[0m\n",
      "\u001b[1;31mFileNotFoundError\u001b[0m: [Errno 2] Unable to synchronously open file (unable to open file: name = 'cvae_beats_weights.h5', errno = 2, error message = 'No such file or directory', flags = 0, o_flags = 0)"
     ]
    }
   ],
   "source": [
    "# Extract\n",
    "extract_errors_and_latents('cvae_beats_weights.h5', beats, 'errors.npy', 'z_mean.npy')\n",
    "errors, latents = np.load('errors.npy'), np.load('z_mean.npy')"
   ]
  },
  {
   "cell_type": "code",
   "execution_count": null,
   "id": "e5c1e77c",
   "metadata": {},
   "outputs": [],
   "source": [
    "# Classifier\n",
    "probs, y_test = train_classifier('errors.npy','z_mean.npy')"
   ]
  },
  {
   "cell_type": "code",
   "execution_count": null,
   "id": "a4bc491b",
   "metadata": {},
   "outputs": [],
   "source": [
    "# Metrics and plots\n",
    "fpr,tpr,thr,roc=compute_roc(y_test,probs)\n",
    "prec,rec,pr_thr,pr=compute_pr(y_test,probs)\n",
    "best=optimal_threshold(fpr,tpr,thr)\n",
    "print(f'AUC-ROC={roc:.3f}, AUC-PR={pr:.3f}, best_thr={best:.3f}')\n",
    "plt.figure();plt.plot(fpr,tpr,label=f'AUC={roc:.3f}');plt.plot([0,1],[0,1],'k--');plt.legend();plt.show()\n",
    "plt.figure();plt.plot(rec,prec,label=f'AUC-PR={pr:.3f}');plt.legend();plt.show()"
   ]
  }
 ],
 "metadata": {
  "kernelspec": {
   "display_name": "TP-final_ML",
   "language": "python",
   "name": "python3"
  },
  "language_info": {
   "codemirror_mode": {
    "name": "ipython",
    "version": 3
   },
   "file_extension": ".py",
   "mimetype": "text/x-python",
   "name": "python",
   "nbconvert_exporter": "python",
   "pygments_lexer": "ipython3",
   "version": "3.10.18"
  }
 },
 "nbformat": 4,
 "nbformat_minor": 5
}
