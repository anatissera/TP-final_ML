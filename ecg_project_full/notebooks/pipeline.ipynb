{
 "cells": [
  {
   "cell_type": "markdown",
   "metadata": {},
   "source": [
    "# Pipeline Lead II: Detección de anomalías con CVAE + Clasificador\n",
    "**Flujo completo:** preprocesado → entrenamiento CVAE → extracción de errores & latentes → entrenamiento clasificador → métricas ROC/PR."
   ]
  },
  {
   "cell_type": "code",
   "metadata": {},
   "source": [
    "# Instala dependencias una sola vez\n",
    "!pip install neurokit2 xgboost torch wfdb"
   ]
  },
  {
   "cell_type": "code",
   "metadata": {},
   "source": [
    "import os\n",
    "import numpy as np\n",
    "import matplotlib.pyplot as plt\n",
    "\n",
    "# Importa tus scripts\n",
    "from scripts.preprocess import load_all_signals, preprocess_and_segment\n",
    "from scripts.model import CVAE, loss_function\n",
    "from scripts.test_functions import (\n",
    "    extract_reconstruction_errors,\n",
    "    train_classifier,\n",
    "    compute_metrics\n",
    ")\n",
    "import torch\n"
   ]
  },
  {
   "cell_type": "code",
   "metadata": {},
   "source": [
    "# Parámetros generales\n",
    "DATA_DIR   = r\"C:\\Users\\anapt\\Repositorios\\TP-final_ML\\TP-final_ML\\data\"\n",
    "BEATS_DIR  = os.path.join(DATA_DIR, 'processed', 'beats')\n",
    "os.makedirs(BEATS_DIR, exist_ok=True)\n",
    "EPOCHS     = 18\n",
    "BATCH_SIZE = 32\n",
    "LR         = 1e-3\n",
    "LATENT_DIM = 60\n",
    "DEVICE     = torch.device('cuda' if torch.cuda.is_available() else 'cpu')\n"
   ]
  },
  {
   "cell_type": "code",
   "metadata": {},
   "source": [
    "# 1) Carga y preprocesamiento recursivo\n",
    "signals = load_all_signals(DATA_DIR)  # devuelve lista de (signal, fs)\n",
    "print(f\"Señales encontradas: {len(signals)}\")\n",
    "beats = []\n",
    "for sig, fs in signals:\n",
    "    beat = preprocess_and_segment(sig, fs)\n",
    "    beats.append(beat)\n",
    "beats = np.stack(beats, axis=0)  # (N, 1, 2048)\n",
    "print(f\"Beats procesados: {beats.shape}\")\n"
   ]
  },
  {
   "cell_type": "code",
   "metadata": {},
   "source": [
    "# 2) Train/Test Split y DataLoader\n",
    "from torch.utils.data import DataLoader, TensorDataset, random_split\n",
    "\n",
    "dataset = TensorDataset(torch.tensor(beats, dtype=torch.float32))\n",
    "n_val = int(0.2 * len(dataset))\n",
    "n_train = len(dataset) - n_val\n",
    "train_set, val_set = random_split(dataset, [n_train, n_val])\n",
    "train_loader = DataLoader(train_set, batch_size=BATCH_SIZE, shuffle=True)\n",
    "val_loader   = DataLoader(val_set,   batch_size=BATCH_SIZE)\n"
   ]
  },
  {
   "cell_type": "code",
   "metadata": {},
   "source": [
    "# 3) Definición y entrenamiento del CVAE\n",
    "model = CVAE(in_channels=1, latent_dim=LATENT_DIM, input_length=2048).to(DEVICE)\n",
    "optimizer = torch.optim.Adam(model.parameters(), lr=LR)\n",
    "best_mae = float('inf')\n",
    "\n",
    "from tqdm.auto import tqdm\n",
    "for epoch in range(1, EPOCHS+1):\n",
    "    model.train()\n",
    "    losses = []\n",
    "    for (x,) in tqdm(train_loader, desc=f\"Epoch {epoch}/{EPOCHS}\"):\n",
    "        x = x.to(DEVICE)\n",
    "        recon, mu, logvar = model(x)\n",
    "        loss = loss_function(recon, x, mu, logvar)\n",
    "        optimizer.zero_grad()\n",
    "        loss.backward()\n",
    "        optimizer.step()\n",
    "        losses.append(loss.item())\n",
    "    # Validación MAE\n",
    "    model.eval()\n",
    "    val_err = extract_reconstruction_errors(model, val_loader, DEVICE)\n",
    "    val_mae = val_err.mean()\n",
    "    print(f\"→ Ep {epoch}: train_loss={np.mean(losses):.4f}, val_mae={val_mae:.4f}\")\n",
    "    if val_mae < best_mae:\n",
    "        best_mae = val_mae\n",
    "        torch.save(model.state_dict(), 'best_cvae.pth')\n"
   ]
  },
  {
   "cell_type": "code",
   "metadata": {},
   "source": [
    "# 4) Extracción de errores para sanos y anomalías (PTB-XL + Chapman)\n",
    "model.load_state_dict(torch.load('best_cvae.pth', map_location=DEVICE))\n",
    "healthy_err = extract_reconstruction_errors(model, val_loader, DEVICE)\n",
    "print(f\"Errores sanos (hold-out): mean={healthy_err.mean():.4f}, std={healthy_err.std():.4f}\")\n",
    "# Ahora lee anomalías: pasa loader=None y subfolders\n",
    "ptb_err  = extract_reconstruction_errors(model, None, DEVICE, DATA_DIR, 'ptb-xl')\n",
    "chap_err = extract_reconstruction_errors(model, None, DEVICE, DATA_DIR, 'ChapmanShaoxing')\n",
    "print(f\"PTB-XL anomalías: {len(ptb_err)}, Chapman anomalías: {len(chap_err)}\")\n"
   ]
  },
  {
   "cell_type": "code",
   "metadata": {},
   "source": [
    "# 5) Entrena clasificador y obtiene probabilidades\n",
    "probs, y_true = train_classifier(healthy_err, ptb_err, chap_err)\n",
    "print(f\"Clases: {{np.unique(y_true, return_counts=True)}}\")\n"
   ]
  },
  {
   "cell_type": "code",
   "metadata": {},
   "source": [
    "# 6) Cálculo de métricas ROC/PR y umbral óptimo\n",
    "metrics = compute_metrics(y_true, probs)\n",
    "print(f\"AUC-ROC: {metrics['auc_roc']:.3f}, AUC-PR: {metrics['auc_pr']:.3f}\")\n",
    "\n",
    "# Curva ROC\n",
    "from sklearn.metrics import roc_curve, precision_recall_curve\n",
    "fpr, tpr, _ = roc_curve(y_true, probs)\n",
    "prec, rec, _ = precision_recall_curve(y_true, probs)\n",
    "best_thr = (tpr - fpr).argmax()  # Youden\n",
    "\n",
    "plt.figure(); plt.plot(fpr, tpr, label=f\"AUC={metrics['auc_roc']:.3f}\"); plt.plot([0,1],[0,1],'k--'); plt.legend(); plt.title('ROC'); plt.show()\n",
    "plt.figure(); plt.plot(rec, prec, label=f\"AUC-PR={metrics['auc_pr']:.3f}\"); plt.legend(); plt.title('PR'); plt.show()\n",
    "print(f\"Umbral óptimo (Youden): {best_thr:.4f}\")\n"
   ]
  }
 ],
 "metadata": { "kernelspec": { "name": "python3" } },
 "nbformat": 4,
 "nbformat_minor": 5
}
